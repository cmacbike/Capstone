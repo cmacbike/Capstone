{
 "cells": [
  {
   "cell_type": "code",
   "execution_count": 2,
   "metadata": {},
   "outputs": [],
   "source": [
    "import pandas as pd\n",
    "import numpy as np\n",
    "import time as tm\n",
    "import matplotlib.pyplot as plt\n",
    "import json as js\n",
    "\n",
    "%matplotlib inline"
   ]
  },
  {
   "cell_type": "code",
   "execution_count": 3,
   "metadata": {},
   "outputs": [
    {
     "name": "stdout",
     "output_type": "stream",
     "text": [
      "/Users/varekai/Documents/Masters Degree/MLE/Projects/Capstone\r\n"
     ]
    }
   ],
   "source": [
    "!pwd"
   ]
  },
  {
   "cell_type": "code",
   "execution_count": 4,
   "metadata": {},
   "outputs": [],
   "source": [
    "papers = pd.read_csv('./Datasets/papers.csv')\n",
    "publications = pd.read_csv('./Datasets/publications.csv')"
   ]
  },
  {
   "cell_type": "code",
   "execution_count": 5,
   "metadata": {},
   "outputs": [
    {
     "data": {
      "text/html": [
       "<div>\n",
       "<style scoped>\n",
       "    .dataframe tbody tr th:only-of-type {\n",
       "        vertical-align: middle;\n",
       "    }\n",
       "\n",
       "    .dataframe tbody tr th {\n",
       "        vertical-align: top;\n",
       "    }\n",
       "\n",
       "    .dataframe thead th {\n",
       "        text-align: right;\n",
       "    }\n",
       "</style>\n",
       "<table border=\"1\" class=\"dataframe\">\n",
       "  <thead>\n",
       "    <tr style=\"text-align: right;\">\n",
       "      <th></th>\n",
       "      <th>pmid</th>\n",
       "      <th>doi</th>\n",
       "      <th>journal</th>\n",
       "      <th>country</th>\n",
       "      <th>title</th>\n",
       "      <th>authors</th>\n",
       "      <th>abstract</th>\n",
       "      <th>citation_count</th>\n",
       "      <th>published_at</th>\n",
       "    </tr>\n",
       "  </thead>\n",
       "  <tbody>\n",
       "    <tr>\n",
       "      <th>0</th>\n",
       "      <td>34013297</td>\n",
       "      <td>10.1101/2021.04.27.21256185</td>\n",
       "      <td>medRxiv : the preprint server for health sciences</td>\n",
       "      <td>United States</td>\n",
       "      <td>Pre-pandemic mental and physical health as pre...</td>\n",
       "      <td>G David Batty, Ian J Deary, Drew Altschul</td>\n",
       "      <td>&lt;Abstract&gt;\\n                &lt;AbstractText Labe...</td>\n",
       "      <td>0</td>\n",
       "      <td>2021-05-20 00:00:00</td>\n",
       "    </tr>\n",
       "    <tr>\n",
       "      <th>1</th>\n",
       "      <td>34013147</td>\n",
       "      <td>10.29337/ijsp.144</td>\n",
       "      <td>International journal of surgery protocols</td>\n",
       "      <td>England</td>\n",
       "      <td>A Study Protocol to Explore and Improve Access...</td>\n",
       "      <td>Gianina-Ioana Postavaru, Bethan Myers, Tanweer...</td>\n",
       "      <td>&lt;Abstract&gt;\\n                &lt;AbstractText Labe...</td>\n",
       "      <td>0</td>\n",
       "      <td>2021-05-20 00:00:00</td>\n",
       "    </tr>\n",
       "    <tr>\n",
       "      <th>2</th>\n",
       "      <td>34012470</td>\n",
       "      <td>10.1155/2021/5543977</td>\n",
       "      <td>Journal of environmental and public health</td>\n",
       "      <td>United States</td>\n",
       "      <td>Zero-Inflated Time Series Modelling of COVID-1...</td>\n",
       "      <td>Kassim Tawiah, Wahab Abdul Iddrisu, Killian As...</td>\n",
       "      <td>&lt;Abstract&gt;\\n                &lt;AbstractText&gt;Disc...</td>\n",
       "      <td>0</td>\n",
       "      <td>2021-05-20 00:00:00</td>\n",
       "    </tr>\n",
       "    <tr>\n",
       "      <th>3</th>\n",
       "      <td>34006408</td>\n",
       "      <td>10.1016/j.vaccine.2021.04.054</td>\n",
       "      <td>Vaccine</td>\n",
       "      <td>Netherlands</td>\n",
       "      <td>Thrombocytopenia including immune thrombocytop...</td>\n",
       "      <td>Kerry J Welsh, Jane Baumblatt, Wambui Chege, R...</td>\n",
       "      <td>&lt;Abstract&gt;\\n                &lt;AbstractText Labe...</td>\n",
       "      <td>0</td>\n",
       "      <td>2021-05-19 00:00:00</td>\n",
       "    </tr>\n",
       "    <tr>\n",
       "      <th>4</th>\n",
       "      <td>34006403</td>\n",
       "      <td>10.1016/j.gerinurse.2021.04.009</td>\n",
       "      <td>Geriatric nursing (New York, N.Y.)</td>\n",
       "      <td>United States</td>\n",
       "      <td>The impact of COVID-19 on building the next ge...</td>\n",
       "      <td>Barbara Resnick</td>\n",
       "      <td>&lt;?xml version=\"1.0\"?&gt;\\n&lt;p/&gt;\\n</td>\n",
       "      <td>0</td>\n",
       "      <td>2021-05-19 00:00:00</td>\n",
       "    </tr>\n",
       "  </tbody>\n",
       "</table>\n",
       "</div>"
      ],
      "text/plain": [
       "       pmid                              doi  \\\n",
       "0  34013297      10.1101/2021.04.27.21256185   \n",
       "1  34013147                10.29337/ijsp.144   \n",
       "2  34012470             10.1155/2021/5543977   \n",
       "3  34006408    10.1016/j.vaccine.2021.04.054   \n",
       "4  34006403  10.1016/j.gerinurse.2021.04.009   \n",
       "\n",
       "                                             journal        country  \\\n",
       "0  medRxiv : the preprint server for health sciences  United States   \n",
       "1         International journal of surgery protocols        England   \n",
       "2         Journal of environmental and public health  United States   \n",
       "3                                            Vaccine    Netherlands   \n",
       "4                 Geriatric nursing (New York, N.Y.)  United States   \n",
       "\n",
       "                                               title  \\\n",
       "0  Pre-pandemic mental and physical health as pre...   \n",
       "1  A Study Protocol to Explore and Improve Access...   \n",
       "2  Zero-Inflated Time Series Modelling of COVID-1...   \n",
       "3  Thrombocytopenia including immune thrombocytop...   \n",
       "4  The impact of COVID-19 on building the next ge...   \n",
       "\n",
       "                                             authors  \\\n",
       "0          G David Batty, Ian J Deary, Drew Altschul   \n",
       "1  Gianina-Ioana Postavaru, Bethan Myers, Tanweer...   \n",
       "2  Kassim Tawiah, Wahab Abdul Iddrisu, Killian As...   \n",
       "3  Kerry J Welsh, Jane Baumblatt, Wambui Chege, R...   \n",
       "4                                    Barbara Resnick   \n",
       "\n",
       "                                            abstract  citation_count  \\\n",
       "0  <Abstract>\\n                <AbstractText Labe...               0   \n",
       "1  <Abstract>\\n                <AbstractText Labe...               0   \n",
       "2  <Abstract>\\n                <AbstractText>Disc...               0   \n",
       "3  <Abstract>\\n                <AbstractText Labe...               0   \n",
       "4                      <?xml version=\"1.0\"?>\\n<p/>\\n               0   \n",
       "\n",
       "          published_at  \n",
       "0  2021-05-20 00:00:00  \n",
       "1  2021-05-20 00:00:00  \n",
       "2  2021-05-20 00:00:00  \n",
       "3  2021-05-19 00:00:00  \n",
       "4  2021-05-19 00:00:00  "
      ]
     },
     "execution_count": 5,
     "metadata": {},
     "output_type": "execute_result"
    }
   ],
   "source": [
    "papers.head()"
   ]
  },
  {
   "cell_type": "code",
   "execution_count": 6,
   "metadata": {},
   "outputs": [],
   "source": [
    "id = publications[['pub_id']].groupby('pub_id').count()\n"
   ]
  },
  {
   "cell_type": "code",
   "execution_count": 7,
   "metadata": {},
   "outputs": [],
   "source": [
    "id = id.reset_index()"
   ]
  },
  {
   "cell_type": "code",
   "execution_count": 8,
   "metadata": {},
   "outputs": [
    {
     "data": {
      "text/html": [
       "<div>\n",
       "<style scoped>\n",
       "    .dataframe tbody tr th:only-of-type {\n",
       "        vertical-align: middle;\n",
       "    }\n",
       "\n",
       "    .dataframe tbody tr th {\n",
       "        vertical-align: top;\n",
       "    }\n",
       "\n",
       "    .dataframe thead th {\n",
       "        text-align: right;\n",
       "    }\n",
       "</style>\n",
       "<table border=\"1\" class=\"dataframe\">\n",
       "  <thead>\n",
       "    <tr style=\"text-align: right;\">\n",
       "      <th></th>\n",
       "      <th>text</th>\n",
       "    </tr>\n",
       "  </thead>\n",
       "  <tbody>\n",
       "    <tr>\n",
       "      <th>250122</th>\n",
       "      <td>The aim of this study was to identify if acqui...</td>\n",
       "    </tr>\n",
       "    <tr>\n",
       "      <th>250123</th>\n",
       "      <td>The spur of ICT (Information and Communication...</td>\n",
       "    </tr>\n",
       "    <tr>\n",
       "      <th>250124</th>\n",
       "      <td>Studies continue to show that primary language...</td>\n",
       "    </tr>\n",
       "    <tr>\n",
       "      <th>250125</th>\n",
       "      <td>Lebanon is a small country situated in the Mid...</td>\n",
       "    </tr>\n",
       "    <tr>\n",
       "      <th>250126</th>\n",
       "      <td>Lebanese women are in a constant battle with a...</td>\n",
       "    </tr>\n",
       "    <tr>\n",
       "      <th>250127</th>\n",
       "      <td>While a number of Arab governments have adopte...</td>\n",
       "    </tr>\n",
       "    <tr>\n",
       "      <th>250128</th>\n",
       "      <td>DOT Lebanon is a registered local Lebanese NGO...</td>\n",
       "    </tr>\n",
       "    <tr>\n",
       "      <th>250129</th>\n",
       "      <td>NaN</td>\n",
       "    </tr>\n",
       "    <tr>\n",
       "      <th>250130</th>\n",
       "      <td>This is a prospective cohort study describing ...</td>\n",
       "    </tr>\n",
       "    <tr>\n",
       "      <th>250131</th>\n",
       "      <td>Upon registering in the training, participants...</td>\n",
       "    </tr>\n",
       "    <tr>\n",
       "      <th>250132</th>\n",
       "      <td>Data was analyzed using Statistical Package fo...</td>\n",
       "    </tr>\n",
       "    <tr>\n",
       "      <th>250133</th>\n",
       "      <td>A limitation that arises with a longitudinal s...</td>\n",
       "    </tr>\n",
       "    <tr>\n",
       "      <th>250134</th>\n",
       "      <td>The response rate for this follow-up study was...</td>\n",
       "    </tr>\n",
       "    <tr>\n",
       "      <th>250135</th>\n",
       "      <td>Gender Female 153 (56)</td>\n",
       "    </tr>\n",
       "    <tr>\n",
       "      <th>250136</th>\n",
       "      <td>NaN</td>\n",
       "    </tr>\n",
       "    <tr>\n",
       "      <th>250137</th>\n",
       "      <td>The results showed that 195 (72%) beneficiarie...</td>\n",
       "    </tr>\n",
       "    <tr>\n",
       "      <th>250138</th>\n",
       "      <td>Gender was found to be a statistically signifi...</td>\n",
       "    </tr>\n",
       "    <tr>\n",
       "      <th>250139</th>\n",
       "      <td>The results indicate a significant difference ...</td>\n",
       "    </tr>\n",
       "    <tr>\n",
       "      <th>250140</th>\n",
       "      <td>Beneficiaries living in the capital Beirut wer...</td>\n",
       "    </tr>\n",
       "    <tr>\n",
       "      <th>250141</th>\n",
       "      <td>Lebanon is already among the countries with th...</td>\n",
       "    </tr>\n",
       "  </tbody>\n",
       "</table>\n",
       "</div>"
      ],
      "text/plain": [
       "                                                     text\n",
       "250122  The aim of this study was to identify if acqui...\n",
       "250123  The spur of ICT (Information and Communication...\n",
       "250124  Studies continue to show that primary language...\n",
       "250125  Lebanon is a small country situated in the Mid...\n",
       "250126  Lebanese women are in a constant battle with a...\n",
       "250127  While a number of Arab governments have adopte...\n",
       "250128  DOT Lebanon is a registered local Lebanese NGO...\n",
       "250129                                                NaN\n",
       "250130  This is a prospective cohort study describing ...\n",
       "250131  Upon registering in the training, participants...\n",
       "250132  Data was analyzed using Statistical Package fo...\n",
       "250133  A limitation that arises with a longitudinal s...\n",
       "250134  The response rate for this follow-up study was...\n",
       "250135                            Gender Female 153 (56) \n",
       "250136                                                NaN\n",
       "250137  The results showed that 195 (72%) beneficiarie...\n",
       "250138  Gender was found to be a statistically signifi...\n",
       "250139  The results indicate a significant difference ...\n",
       "250140  Beneficiaries living in the capital Beirut wer...\n",
       "250141  Lebanon is already among the countries with th..."
      ]
     },
     "execution_count": 8,
     "metadata": {},
     "output_type": "execute_result"
    }
   ],
   "source": [
    "publications[ publications['pub_id'] == id['pub_id'][0]][['text']]"
   ]
  },
  {
   "cell_type": "code",
   "execution_count": 9,
   "metadata": {},
   "outputs": [
    {
     "name": "stdout",
     "output_type": "stream",
     "text": [
      "<class 'pandas.core.frame.DataFrame'>\n",
      "RangeIndex: 258714 entries, 0 to 258713\n",
      "Data columns (total 3 columns):\n",
      " #   Column         Non-Null Count   Dtype \n",
      "---  ------         --------------   ----- \n",
      " 0   pub_id         258714 non-null  object\n",
      " 1   section_title  254435 non-null  object\n",
      " 2   text           236628 non-null  object\n",
      "dtypes: object(3)\n",
      "memory usage: 5.9+ MB\n"
     ]
    }
   ],
   "source": [
    "publications.info()"
   ]
  },
  {
   "cell_type": "code",
   "execution_count": 10,
   "metadata": {},
   "outputs": [
    {
     "data": {
      "text/html": [
       "<div>\n",
       "<style scoped>\n",
       "    .dataframe tbody tr th:only-of-type {\n",
       "        vertical-align: middle;\n",
       "    }\n",
       "\n",
       "    .dataframe tbody tr th {\n",
       "        vertical-align: top;\n",
       "    }\n",
       "\n",
       "    .dataframe thead th {\n",
       "        text-align: right;\n",
       "    }\n",
       "</style>\n",
       "<table border=\"1\" class=\"dataframe\">\n",
       "  <thead>\n",
       "    <tr style=\"text-align: right;\">\n",
       "      <th></th>\n",
       "      <th>pub_id</th>\n",
       "    </tr>\n",
       "  </thead>\n",
       "  <tbody>\n",
       "    <tr>\n",
       "      <th>0</th>\n",
       "      <td>0007f880-0a9b-492d-9a58-76eb0b0e0bd7</td>\n",
       "    </tr>\n",
       "    <tr>\n",
       "      <th>1</th>\n",
       "      <td>0008656f-0ba2-4632-8602-3017b44c2e90</td>\n",
       "    </tr>\n",
       "    <tr>\n",
       "      <th>2</th>\n",
       "      <td>000e04d6-d6ef-442f-b070-4309493221ba</td>\n",
       "    </tr>\n",
       "    <tr>\n",
       "      <th>3</th>\n",
       "      <td>000efc17-13d8-433d-8f62-a3932fe4f3b8</td>\n",
       "    </tr>\n",
       "    <tr>\n",
       "      <th>4</th>\n",
       "      <td>0010357a-6365-4e5f-b982-582e6d32c3ee</td>\n",
       "    </tr>\n",
       "    <tr>\n",
       "      <th>...</th>\n",
       "      <td>...</td>\n",
       "    </tr>\n",
       "    <tr>\n",
       "      <th>14311</th>\n",
       "      <td>ffd19b3c-f941-45e5-9382-934b5041ec96</td>\n",
       "    </tr>\n",
       "    <tr>\n",
       "      <th>14312</th>\n",
       "      <td>ffd4d86a-0f26-44cc-baed-f0e209cc22af</td>\n",
       "    </tr>\n",
       "    <tr>\n",
       "      <th>14313</th>\n",
       "      <td>ffe7f334-245a-4de7-b600-d7ff4e28bfca</td>\n",
       "    </tr>\n",
       "    <tr>\n",
       "      <th>14314</th>\n",
       "      <td>ffeb3568-7aed-4dbe-b177-cbd7f46f34af</td>\n",
       "    </tr>\n",
       "    <tr>\n",
       "      <th>14315</th>\n",
       "      <td>ffee2676-a778-4521-b947-e1e420b126c5</td>\n",
       "    </tr>\n",
       "  </tbody>\n",
       "</table>\n",
       "<p>14316 rows × 1 columns</p>\n",
       "</div>"
      ],
      "text/plain": [
       "                                     pub_id\n",
       "0      0007f880-0a9b-492d-9a58-76eb0b0e0bd7\n",
       "1      0008656f-0ba2-4632-8602-3017b44c2e90\n",
       "2      000e04d6-d6ef-442f-b070-4309493221ba\n",
       "3      000efc17-13d8-433d-8f62-a3932fe4f3b8\n",
       "4      0010357a-6365-4e5f-b982-582e6d32c3ee\n",
       "...                                     ...\n",
       "14311  ffd19b3c-f941-45e5-9382-934b5041ec96\n",
       "14312  ffd4d86a-0f26-44cc-baed-f0e209cc22af\n",
       "14313  ffe7f334-245a-4de7-b600-d7ff4e28bfca\n",
       "14314  ffeb3568-7aed-4dbe-b177-cbd7f46f34af\n",
       "14315  ffee2676-a778-4521-b947-e1e420b126c5\n",
       "\n",
       "[14316 rows x 1 columns]"
      ]
     },
     "execution_count": 10,
     "metadata": {},
     "output_type": "execute_result"
    }
   ],
   "source": [
    "id"
   ]
  },
  {
   "cell_type": "code",
   "execution_count": 11,
   "metadata": {},
   "outputs": [
    {
     "data": {
      "text/plain": [
       "pub_id    0007f880-0a9b-492d-9a58-76eb0b0e0bd7\n",
       "Name: 0, dtype: object"
      ]
     },
     "execution_count": 11,
     "metadata": {},
     "output_type": "execute_result"
    }
   ],
   "source": [
    "id.iloc[0]"
   ]
  },
  {
   "cell_type": "code",
   "execution_count": 20,
   "metadata": {},
   "outputs": [],
   "source": [
    "\n",
    "def write_data_file(p_id,filename):\n",
    "    doc = publications[ publications['pub_id'] == p_id][['text']]\n",
    "    doc.dropna(inplace=True)\n",
    "    txtdoc = ' '.join([x for x in doc['text']])\n",
    "    with open(filename,'w') as pub_doc:\n",
    "        pub_doc.write(txtdoc)\n",
    "        "
   ]
  },
  {
   "cell_type": "code",
   "execution_count": 21,
   "metadata": {},
   "outputs": [],
   "source": [
    "for p_id in id['pub_id']:\n",
    "    write_data_file(p_id,'./data/%s.txt'%(p_id))"
   ]
  },
  {
   "cell_type": "code",
   "execution_count": 16,
   "metadata": {},
   "outputs": [
    {
     "name": "stdout",
     "output_type": "stream",
     "text": [
      "/Users/varekai/Documents/Masters Degree/MLE/Projects/Capstone\r\n"
     ]
    }
   ],
   "source": [
    "!pwd"
   ]
  },
  {
   "cell_type": "code",
   "execution_count": null,
   "metadata": {},
   "outputs": [],
   "source": []
  }
 ],
 "metadata": {
  "kernelspec": {
   "display_name": "Python 3",
   "language": "python",
   "name": "python3"
  },
  "language_info": {
   "codemirror_mode": {
    "name": "ipython",
    "version": 3
   },
   "file_extension": ".py",
   "mimetype": "text/x-python",
   "name": "python",
   "nbconvert_exporter": "python",
   "pygments_lexer": "ipython3",
   "version": "3.8.5"
  }
 },
 "nbformat": 4,
 "nbformat_minor": 4
}
